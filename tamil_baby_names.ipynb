{
 "cells": [
  {
   "cell_type": "code",
   "execution_count": 1,
   "id": "c2e521ef",
   "metadata": {},
   "outputs": [],
   "source": [
    "# Modules import\n",
    "\n",
    "import os\n",
    "import random\n",
    "import requests\n",
    "from bs4 import BeautifulSoup\n",
    "import pandas as pd"
   ]
  },
  {
   "cell_type": "code",
   "execution_count": 6,
   "id": "ece15df3",
   "metadata": {},
   "outputs": [
    {
     "name": "stdout",
     "output_type": "stream",
     "text": [
      "200\n",
      "Male Names length : 1269\n",
      "Female Names length : 1243\n"
     ]
    }
   ],
   "source": [
    "user_agent_list = [\n",
    "'Mozilla/5.0 (Macintosh; Intel Mac OS X 10_15_5) AppleWebKit/605.1.15 (KHTML, like Gecko) Version/13.1.1 Safari/605.1.15',\n",
    "'Mozilla/5.0 (Windows NT 10.0; Win64; x64; rv:77.0) Gecko/20100101 Firefox/77.0',\n",
    "'Mozilla/5.0 (Macintosh; Intel Mac OS X 10_15_5) AppleWebKit/537.36 (KHTML, like Gecko) Chrome/83.0.4103.97 Safari/537.36',\n",
    "'Mozilla/5.0 (Macintosh; Intel Mac OS X 10.15; rv:77.0) Gecko/20100101 Firefox/77.0',\n",
    "'Mozilla/5.0 (Windows NT 10.0; Win64; x64) AppleWebKit/537.36 (KHTML, like Gecko) Chrome/83.0.4103.97 Safari/537.36',\n",
    "]\n",
    "\n",
    "\n",
    "url = \"https://dheivegam.com/baby-names-tamil/\" \n",
    "\n",
    "\n",
    "#Pick a random user agent\n",
    "user_agent = random.choice(user_agent_list)\n",
    "#Set the headers \n",
    "headers = {'User-Agent': user_agent}\n",
    "#Make the request\n",
    "response = requests.get(url,headers=headers)\n",
    "\n",
    "status_code = response.status_code\n",
    "print(status_code)\n",
    "html = response.content\n",
    "if status_code == 200:\n",
    "    soup = BeautifulSoup(html, \"html.parser\")\n",
    "    article = soup.find(\"article\")\n",
    "    male_names = []\n",
    "    female_names = []\n",
    "    for table in article.find_all(\"table\"):\n",
    "        for item in table.find_all(\"td\", attrs={\"class\":\"column-1\"}):\n",
    "            item_check = str(item)\n",
    "            if \"colspan\" not in item_check:\n",
    "                male_fn = item.get_text()\n",
    "                if male_fn:\n",
    "                    male_names.append(male_fn) # appending male names\n",
    "        for item in table.find_all(\"td\", attrs={\"class\":\"column-2\"}):\n",
    "            item_check = str(item)\n",
    "            if \"colspan\" not in item_check:\n",
    "                female_fn = item.get_text()\n",
    "                if female_fn:\n",
    "                    female_names.append(female_fn) # appending female names\n",
    "    print(\"Male Names length :\", len(male_names))\n",
    "    print(\"Female Names length :\", len(female_names))\n",
    "    dict_object = {\"Male\":male_names, \"Female\": female_names}\n",
    "    df1 = pd.DataFrame({'ஆண் குழந்தை பெயர்கள்':male_names}) \n",
    "    df2 = pd.DataFrame({'பெண் குழந்தை பெயர்கள்':female_names}) \n",
    "    pd.concat([df1,df2],axis=1).to_csv(\"tamil_baby_names.csv\", encoding=\"utf-8\", index = False)\n",
    "else:\n",
    "    print(\"Status code issue!\")\n",
    "# Reference for decode\n",
    "# https://stackoverflow.com/questions/51620367/python-reading-a-csv-with-multiple-languages-in-column"
   ]
  },
  {
   "cell_type": "code",
   "execution_count": 20,
   "id": "471a76d4",
   "metadata": {},
   "outputs": [
    {
     "name": "stdout",
     "output_type": "stream",
     "text": [
      "Requirement already satisfied: pandas in c:\\users\\sitha\\appdata\\local\\programs\\python\\python310\\lib\\site-packages (1.4.1)\n",
      "Requirement already satisfied: numpy>=1.21.0 in c:\\users\\sitha\\appdata\\local\\programs\\python\\python310\\lib\\site-packages (from pandas) (1.22.3)\n",
      "Requirement already satisfied: python-dateutil>=2.8.1 in c:\\users\\sitha\\appdata\\local\\programs\\python\\python310\\lib\\site-packages (from pandas) (2.8.2)\n",
      "Requirement already satisfied: pytz>=2020.1 in c:\\users\\sitha\\appdata\\local\\programs\\python\\python310\\lib\\site-packages (from pandas) (2021.3)\n",
      "Requirement already satisfied: six>=1.5 in c:\\users\\sitha\\appdata\\local\\programs\\python\\python310\\lib\\site-packages (from python-dateutil>=2.8.1->pandas) (1.16.0)\n",
      "Note: you may need to restart the kernel to use updated packages.\n"
     ]
    }
   ],
   "source": [
    "pip install pandas"
   ]
  },
  {
   "cell_type": "code",
   "execution_count": null,
   "id": "fd669a48",
   "metadata": {},
   "outputs": [],
   "source": []
  }
 ],
 "metadata": {
  "kernelspec": {
   "display_name": "Python 3 (ipykernel)",
   "language": "python",
   "name": "python3"
  },
  "language_info": {
   "codemirror_mode": {
    "name": "ipython",
    "version": 3
   },
   "file_extension": ".py",
   "mimetype": "text/x-python",
   "name": "python",
   "nbconvert_exporter": "python",
   "pygments_lexer": "ipython3",
   "version": "3.10.2"
  }
 },
 "nbformat": 4,
 "nbformat_minor": 5
}
