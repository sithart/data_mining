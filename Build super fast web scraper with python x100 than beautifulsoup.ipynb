{
 "cells": [
  {
   "cell_type": "code",
   "execution_count": 1,
   "id": "db6624bb",
   "metadata": {},
   "outputs": [],
   "source": [
    "# Reference URL: https://newbedev.com/build-super-fast-web-scraper-with-python-x100-than-beautiful-soup"
   ]
  },
  {
   "cell_type": "code",
   "execution_count": 2,
   "id": "aee50fe3",
   "metadata": {},
   "outputs": [
    {
     "name": "stdout",
     "output_type": "stream",
     "text": [
      "Collecting selectolax\n",
      "  Downloading selectolax-0.3.8-cp310-cp310-win_amd64.whl (1.9 MB)\n",
      "     ---------------------------------------- 1.9/1.9 MB 1.8 MB/s eta 0:00:00\n",
      "Collecting Cython>=0.29.23\n",
      "  Downloading Cython-0.29.32-py2.py3-none-any.whl (986 kB)\n",
      "     -------------------------------------- 986.3/986.3 kB 2.1 MB/s eta 0:00:00\n",
      "Installing collected packages: Cython, selectolax\n",
      "Successfully installed Cython-0.29.32 selectolax-0.3.8\n",
      "Note: you may need to restart the kernel to use updated packages.\n"
     ]
    },
    {
     "name": "stderr",
     "output_type": "stream",
     "text": [
      "WARNING: There was an error checking the latest version of pip.\n"
     ]
    }
   ],
   "source": [
    "pip install selectolax"
   ]
  },
  {
   "cell_type": "code",
   "execution_count": 3,
   "id": "6966814e",
   "metadata": {},
   "outputs": [
    {
     "name": "stdout",
     "output_type": "stream",
     "text": [
      "pip 22.1.1 from C:\\Users\\sitha\\AppData\\Local\\Programs\\Python\\Python310\\lib\\site-packages\\pip (python 3.10)\n",
      "\n",
      "Note: you may need to restart the kernel to use updated packages.\n"
     ]
    }
   ],
   "source": [
    "pip --version"
   ]
  },
  {
   "cell_type": "code",
   "execution_count": 4,
   "id": "3850a26e",
   "metadata": {},
   "outputs": [],
   "source": [
    "from selectolax.parser import HTMLParser\n",
    "html = \"\"\"\n",
    "<body>\n",
    "    <h1 class='>Welcome to selectolax tutorial</h1>\n",
    "    <div id=\"text\">\n",
    "        <p class='p3'>Lorem ipsum</p>\n",
    "        <p class='p3'>Lorem ipsum 2</p>\n",
    "    </div>\n",
    "    <div>\n",
    "        <p id='stext'>Lorem ipsum dolor sit amet, ea quo modus meliore platonem.</p>\n",
    "    </div>\n",
    "</body>\n",
    "\"\"\""
   ]
  },
  {
   "cell_type": "code",
   "execution_count": 5,
   "id": "9a18d1e5",
   "metadata": {},
   "outputs": [],
   "source": [
    "parser = HTMLParser(html)"
   ]
  },
  {
   "cell_type": "code",
   "execution_count": 6,
   "id": "3471d54e",
   "metadata": {},
   "outputs": [
    {
     "data": {
      "text/plain": [
       "'\\n<body>\\n    <h1 class=\\'>Welcome to selectolax tutorial</h1>\\n    <div id=\"text\">\\n        <p class=\\'p3\\'>Lorem ipsum</p>\\n        <p class=\\'p3\\'>Lorem ipsum 2</p>\\n    </div>\\n    <div>\\n        <p id=\\'stext\\'>Lorem ipsum dolor sit amet, ea quo modus meliore platonem.</p>\\n    </div>\\n</body>\\n'"
      ]
     },
     "execution_count": 6,
     "metadata": {},
     "output_type": "execute_result"
    }
   ],
   "source": [
    "html"
   ]
  },
  {
   "cell_type": "code",
   "execution_count": 8,
   "id": "0093f80b",
   "metadata": {},
   "outputs": [
    {
     "data": {
      "text/plain": [
       "<selectolax.parser.Selector at 0x25ac4f0e100>"
      ]
     },
     "execution_count": 8,
     "metadata": {},
     "output_type": "execute_result"
    }
   ],
   "source": [
    "parser.select('p.p3') # "
   ]
  },
  {
   "cell_type": "code",
   "execution_count": 9,
   "id": "93f4ccb8",
   "metadata": {},
   "outputs": [
    {
     "data": {
      "text/plain": [
       "<Node p>"
      ]
     },
     "execution_count": 9,
     "metadata": {},
     "output_type": "execute_result"
    }
   ],
   "source": [
    "parser.css_first('p.p3') #select first match"
   ]
  },
  {
   "cell_type": "code",
   "execution_count": 14,
   "id": "76446b43",
   "metadata": {},
   "outputs": [
    {
     "name": "stdout",
     "output_type": "stream",
     "text": [
      "p <p id=\"stext\">Lorem ipsum dolor sit amet, ea quo modus meliore platonem.</p>\n"
     ]
    }
   ],
   "source": [
    "for node in parser.css('div'):\n",
    "    for cnode in node.iter():\n",
    "        print(cnode.tag, cnode.html)"
   ]
  },
  {
   "cell_type": "code",
   "execution_count": 15,
   "id": "6d2d4ea2",
   "metadata": {},
   "outputs": [
    {
     "name": "stdout",
     "output_type": "stream",
     "text": [
      "Collecting httpx\n",
      "  Downloading httpx-0.23.0-py3-none-any.whl (84 kB)\n",
      "     -------------------------------------- 84.8/84.8 kB 802.2 kB/s eta 0:00:00\n",
      "Requirement already satisfied: sniffio in c:\\users\\sitha\\appdata\\local\\programs\\python\\python310\\lib\\site-packages (from httpx) (1.2.0)\n",
      "Collecting httpcore<0.16.0,>=0.15.0\n",
      "  Downloading httpcore-0.15.0-py3-none-any.whl (68 kB)\n",
      "     ---------------------------------------- 68.4/68.4 kB 1.8 MB/s eta 0:00:00\n",
      "Requirement already satisfied: certifi in c:\\users\\sitha\\appdata\\local\\programs\\python\\python310\\lib\\site-packages (from httpx) (2021.10.8)\n",
      "Collecting rfc3986[idna2008]<2,>=1.3\n",
      "  Downloading rfc3986-1.5.0-py2.py3-none-any.whl (31 kB)\n",
      "Collecting h11<0.13,>=0.11\n",
      "  Downloading h11-0.12.0-py3-none-any.whl (54 kB)\n",
      "     -------------------------------------- 54.9/54.9 kB 949.3 kB/s eta 0:00:00\n",
      "Collecting anyio==3.*\n",
      "  Downloading anyio-3.6.1-py3-none-any.whl (80 kB)\n",
      "     -------------------------------------- 80.6/80.6 kB 748.7 kB/s eta 0:00:00\n",
      "Requirement already satisfied: idna>=2.8 in c:\\users\\sitha\\appdata\\local\\programs\\python\\python310\\lib\\site-packages (from anyio==3.*->httpcore<0.16.0,>=0.15.0->httpx) (3.3)\n",
      "Installing collected packages: rfc3986, h11, anyio, httpcore, httpx\n",
      "  Attempting uninstall: h11\n",
      "    Found existing installation: h11 0.13.0\n",
      "    Uninstalling h11-0.13.0:\n",
      "      Successfully uninstalled h11-0.13.0\n",
      "Successfully installed anyio-3.6.1 h11-0.12.0 httpcore-0.15.0 httpx-0.23.0 rfc3986-1.5.0\n",
      "Note: you may need to restart the kernel to use updated packages.\n"
     ]
    },
    {
     "name": "stderr",
     "output_type": "stream",
     "text": [
      "WARNING: There was an error checking the latest version of pip.\n"
     ]
    }
   ],
   "source": [
    "pip install httpx"
   ]
  },
  {
   "cell_type": "code",
   "execution_count": 17,
   "id": "052d7196",
   "metadata": {},
   "outputs": [
    {
     "ename": "RuntimeError",
     "evalue": "asyncio.run() cannot be called from a running event loop",
     "output_type": "error",
     "traceback": [
      "\u001b[1;31m---------------------------------------------------------------------------\u001b[0m",
      "\u001b[1;31mRuntimeError\u001b[0m                              Traceback (most recent call last)",
      "Input \u001b[1;32mIn [17]\u001b[0m, in \u001b[0;36m<cell line: 9>\u001b[1;34m()\u001b[0m\n\u001b[0;32m      6\u001b[0m         \u001b[38;5;28mprint\u001b[39m(response\u001b[38;5;241m.\u001b[39mjson())\n\u001b[0;32m      8\u001b[0m \u001b[38;5;28;01mimport\u001b[39;00m \u001b[38;5;21;01masyncio\u001b[39;00m\n\u001b[1;32m----> 9\u001b[0m \u001b[43masyncio\u001b[49m\u001b[38;5;241;43m.\u001b[39;49m\u001b[43mrun\u001b[49m\u001b[43m(\u001b[49m\u001b[43mmain\u001b[49m\u001b[43m(\u001b[49m\u001b[43m)\u001b[49m\u001b[43m)\u001b[49m\n",
      "File \u001b[1;32m~\\AppData\\Local\\Programs\\Python\\Python310\\lib\\asyncio\\runners.py:33\u001b[0m, in \u001b[0;36mrun\u001b[1;34m(main, debug)\u001b[0m\n\u001b[0;32m      9\u001b[0m \u001b[38;5;124;03m\"\"\"Execute the coroutine and return the result.\u001b[39;00m\n\u001b[0;32m     10\u001b[0m \n\u001b[0;32m     11\u001b[0m \u001b[38;5;124;03mThis function runs the passed coroutine, taking care of\u001b[39;00m\n\u001b[1;32m   (...)\u001b[0m\n\u001b[0;32m     30\u001b[0m \u001b[38;5;124;03m    asyncio.run(main())\u001b[39;00m\n\u001b[0;32m     31\u001b[0m \u001b[38;5;124;03m\"\"\"\u001b[39;00m\n\u001b[0;32m     32\u001b[0m \u001b[38;5;28;01mif\u001b[39;00m events\u001b[38;5;241m.\u001b[39m_get_running_loop() \u001b[38;5;129;01mis\u001b[39;00m \u001b[38;5;129;01mnot\u001b[39;00m \u001b[38;5;28;01mNone\u001b[39;00m:\n\u001b[1;32m---> 33\u001b[0m     \u001b[38;5;28;01mraise\u001b[39;00m \u001b[38;5;167;01mRuntimeError\u001b[39;00m(\n\u001b[0;32m     34\u001b[0m         \u001b[38;5;124m\"\u001b[39m\u001b[38;5;124masyncio.run() cannot be called from a running event loop\u001b[39m\u001b[38;5;124m\"\u001b[39m)\n\u001b[0;32m     36\u001b[0m \u001b[38;5;28;01mif\u001b[39;00m \u001b[38;5;129;01mnot\u001b[39;00m coroutines\u001b[38;5;241m.\u001b[39miscoroutine(main):\n\u001b[0;32m     37\u001b[0m     \u001b[38;5;28;01mraise\u001b[39;00m \u001b[38;5;167;01mValueError\u001b[39;00m(\u001b[38;5;124m\"\u001b[39m\u001b[38;5;124ma coroutine was expected, got \u001b[39m\u001b[38;5;132;01m{!r}\u001b[39;00m\u001b[38;5;124m\"\u001b[39m\u001b[38;5;241m.\u001b[39mformat(main))\n",
      "\u001b[1;31mRuntimeError\u001b[0m: asyncio.run() cannot be called from a running event loop"
     ]
    }
   ],
   "source": [
    "import httpx\n",
    "async def main():\n",
    "    async with httpx.AsyncClient() as client:\n",
    "        response = await client.get('https://httpbin.org/get')\n",
    "        print(response.status_code)\n",
    "        print(response.json())\n",
    "\n",
    "import asyncio\n",
    "asyncio.run(main())"
   ]
  },
  {
   "cell_type": "code",
   "execution_count": null,
   "id": "9fa651af",
   "metadata": {},
   "outputs": [],
   "source": []
  }
 ],
 "metadata": {
  "kernelspec": {
   "display_name": "Python 3 (ipykernel)",
   "language": "python",
   "name": "python3"
  },
  "language_info": {
   "codemirror_mode": {
    "name": "ipython",
    "version": 3
   },
   "file_extension": ".py",
   "mimetype": "text/x-python",
   "name": "python",
   "nbconvert_exporter": "python",
   "pygments_lexer": "ipython3",
   "version": "3.10.2"
  }
 },
 "nbformat": 4,
 "nbformat_minor": 5
}
