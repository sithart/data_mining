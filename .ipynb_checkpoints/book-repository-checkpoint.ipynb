{
 "cells": [
  {
   "cell_type": "code",
   "execution_count": 3,
   "id": "c74402c1",
   "metadata": {},
   "outputs": [],
   "source": [
    "# Dependency Installation\n",
    "import requests\n",
    "from bs4 import BeautifulSoup\n"
   ]
  },
  {
   "cell_type": "code",
   "execution_count": 4,
   "id": "75a44511",
   "metadata": {},
   "outputs": [
    {
     "name": "stdout",
     "output_type": "stream",
     "text": [
      "<Response [200]>\n"
     ]
    }
   ],
   "source": [
    "url = \"https://www.bookdepository.com/bestsellers\"\n",
    "response = requests.get(url)\n",
    "print(response)"
   ]
  },
  {
   "cell_type": "code",
   "execution_count": 5,
   "id": "e655945c",
   "metadata": {},
   "outputs": [],
   "source": [
    "html = response.content"
   ]
  },
  {
   "cell_type": "code",
   "execution_count": 24,
   "id": "24d26524",
   "metadata": {},
   "outputs": [
    {
     "data": {
      "text/plain": [
       "'Bestsellers – our most popular items, updated daily.'"
      ]
     },
     "execution_count": 24,
     "metadata": {},
     "output_type": "execute_result"
    }
   ],
   "source": [
    "soup = BeautifulSoup(html, \"lxml\") #lxml - HTML Parser\n",
    "# soup # Given nested structure of the original HTML content. We can easily navigate and collect data from\n",
    "soup.h1.get_text()"
   ]
  },
  {
   "cell_type": "code",
   "execution_count": 25,
   "id": "9e98b78e",
   "metadata": {},
   "outputs": [
    {
     "data": {
      "text/plain": [
       "<h1>Bestsellers – our most popular items, updated daily.</h1>"
      ]
     },
     "execution_count": 25,
     "metadata": {},
     "output_type": "execute_result"
    }
   ],
   "source": [
    "soup.find('h1')"
   ]
  },
  {
   "cell_type": "code",
   "execution_count": 32,
   "id": "222611bf",
   "metadata": {
    "collapsed": true
   },
   "outputs": [
    {
     "name": "stdout",
     "output_type": "stream",
     "text": [
      "Revenge\n",
      "Where the Crawdads Sing\n",
      "It Ends With Us: The most heartbreaking novel you'll ever read\n",
      "Verity\n",
      "Things We Never Got Over\n",
      "Heaven Official's Blessing: Tian Guan Ci Fu (Novel) Vol. 3\n",
      "Seven Husbands of Evelyn Hugo\n",
      "The Summer I Turned Pretty\n",
      "Twisted Love\n",
      "It's Not Summer Without You (Reprint)\n",
      "My Killer Vacation\n",
      "Ugly Love\n",
      "Rules of Everything\n",
      "The Scum Villain's Self-Saving System: Ren Zha Fanpai Zijiu Xitong (Novel) Vol. 3\n",
      "Twisted Games\n",
      "We'll Always Have Summer (Reprint)\n",
      "Atomic Habits\n",
      "The Love Hypothesis\n",
      "Twisted Hate\n",
      "Every Summer After\n",
      "Twisted Lies\n",
      "Beach Read\n",
      "Chainsaw Man, Vol. 11\n",
      "The Midnight Library\n",
      "November 9\n",
      "Grandmaster of Demonic Cultivation: Mo Dao Zu Shi (Novel) Vol. 3\n",
      "Nick and Charlie\n",
      "Reminders of Him\n",
      "All Your Perfects\n",
      "The Girl Who Fell From The Sky\n"
     ]
    }
   ],
   "source": [
    "all_h3 = soup.find_all('h3', class_ = \"title\")\n",
    "for h3 in all_h3:\n",
    "    print(h3.get_text(strip=True))"
   ]
  },
  {
   "cell_type": "code",
   "execution_count": 35,
   "id": "85a918b7",
   "metadata": {},
   "outputs": [
    {
     "data": {
      "text/plain": [
       "[Paperback]    29\n",
       "[Hardback]      1\n",
       "dtype: int64"
      ]
     },
     "execution_count": 35,
     "metadata": {},
     "output_type": "execute_result"
    }
   ],
   "source": [
    "import pandas as pd\n",
    "formats = soup.select(\"div.item-info p.format\")\n",
    "formats_series = pd.Series(formats) # Convert the list to series\n",
    "formats_series.value_counts() # Count all the classification"
   ]
  },
  {
   "cell_type": "code",
   "execution_count": 48,
   "id": "52aeaad3",
   "metadata": {},
   "outputs": [
    {
     "data": {
      "text/plain": [
       "2022    17\n",
       "2021     3\n",
       "2016     2\n",
       "2020     2\n",
       "2019     1\n",
       "2010     1\n",
       "2011     1\n",
       "2012     1\n",
       "2018     1\n",
       "2015     1\n",
       "dtype: int64"
      ]
     },
     "execution_count": 48,
     "metadata": {},
     "output_type": "execute_result"
    }
   ],
   "source": [
    "dates = soup.find_all('p', class_='published')\n",
    "dates = [date.get_text()[-4:] for date in dates]\n",
    "dates_series = pd.Series(dates)\n",
    "dates_series.value_counts()"
   ]
  },
  {
   "cell_type": "code",
   "execution_count": 63,
   "id": "f46ec42a",
   "metadata": {},
   "outputs": [
    {
     "name": "stdout",
     "output_type": "stream",
     "text": [
      "\n",
      "                        \n",
      "                             \n",
      "\n",
      "\n",
      "                        \n",
      "                             \n",
      "\n",
      "\n",
      "                        \n",
      "                             \n",
      "\n",
      "\n",
      "                        \n",
      "                             \n",
      "\n",
      "\n",
      "                        \n",
      "                             \n",
      "\n",
      "\n",
      "                        \n",
      "                             \n",
      "\n",
      "\n",
      "                        \n",
      "                             \n",
      "\n",
      "\n",
      "                        \n",
      "                             \n",
      "\n",
      "\n",
      "                        \n",
      "                             \n",
      "\n",
      "\n",
      "                        \n",
      "                             \n",
      "\n",
      "\n",
      "                        \n",
      "                             \n",
      "\n",
      "\n",
      "                        \n",
      "                             \n",
      "\n",
      "\n",
      "                        \n",
      "                             \n",
      "\n",
      "\n",
      "                        \n",
      "                             \n",
      "\n",
      "\n",
      "                        \n",
      "                             \n",
      "\n",
      "\n",
      "                        \n",
      "                             \n",
      "\n",
      "\n",
      "                        \n",
      "                             \n",
      "\n",
      "\n",
      "                        \n",
      "                             \n",
      "\n",
      "\n",
      "                        \n",
      "                             \n",
      "\n",
      "\n",
      "                        \n",
      "                             \n",
      "\n",
      "\n",
      "                        \n",
      "                             \n",
      "\n",
      "\n",
      "                        \n",
      "                             \n",
      "\n",
      "\n",
      "                        \n",
      "                             \n",
      "\n"
     ]
    }
   ],
   "source": [
    "final_prices = []\n",
    "prices = soup.find_all(\"p\", class_=\"price\")\n",
    "for price in prices:\n",
    "    original_price = price.find(\"span\", class_=\"rrp\")\n",
    "    if original_price:\n",
    "        current_price = str(original_price.previousSibling).strip()\n",
    "        try:\n",
    "            current_price = float(current_price.split(\"₹\")[0].replace(\",\", \".\"))\n",
    "        except ValueError:\n",
    "            pass\n",
    "    else:\n",
    "        try:\n",
    "            current_price = float(price.get_text(strip=True).split(\"₹\")[0].replace(\",\", \".\"))\n",
    "        except ValueError:\n",
    "            pass\n",
    "    final_prices.append(current_price)"
   ]
  },
  {
   "cell_type": "code",
   "execution_count": 64,
   "id": "70d351d4",
   "metadata": {},
   "outputs": [
    {
     "data": {
      "text/plain": [
       "['',\n",
       " '',\n",
       " '',\n",
       " '',\n",
       " '',\n",
       " '',\n",
       " '',\n",
       " '',\n",
       " '',\n",
       " '',\n",
       " '',\n",
       " '',\n",
       " '',\n",
       " '',\n",
       " '',\n",
       " '',\n",
       " '',\n",
       " '',\n",
       " '',\n",
       " '',\n",
       " '',\n",
       " '',\n",
       " '',\n",
       " '',\n",
       " '',\n",
       " '',\n",
       " '',\n",
       " '',\n",
       " '',\n",
       " '']"
      ]
     },
     "execution_count": 64,
     "metadata": {},
     "output_type": "execute_result"
    }
   ],
   "source": [
    "final_prices"
   ]
  },
  {
   "cell_type": "code",
   "execution_count": null,
   "id": "68c41a63",
   "metadata": {},
   "outputs": [],
   "source": []
  }
 ],
 "metadata": {
  "kernelspec": {
   "display_name": "Python 3 (ipykernel)",
   "language": "python",
   "name": "python3"
  },
  "language_info": {
   "codemirror_mode": {
    "name": "ipython",
    "version": 3
   },
   "file_extension": ".py",
   "mimetype": "text/x-python",
   "name": "python",
   "nbconvert_exporter": "python",
   "pygments_lexer": "ipython3",
   "version": "3.10.2"
  }
 },
 "nbformat": 4,
 "nbformat_minor": 5
}
