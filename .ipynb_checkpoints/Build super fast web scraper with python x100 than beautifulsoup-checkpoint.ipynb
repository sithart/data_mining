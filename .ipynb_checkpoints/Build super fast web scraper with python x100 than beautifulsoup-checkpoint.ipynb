{
 "cells": [
  {
   "cell_type": "code",
   "execution_count": 1,
   "id": "ebabac7a",
   "metadata": {},
   "outputs": [],
   "source": [
    "# Reference URL: https://newbedev.com/build-super-fast-web-scraper-with-python-x100-than-beautiful-soup"
   ]
  },
  {
   "cell_type": "code",
   "execution_count": 2,
   "id": "1c46df6a",
   "metadata": {},
   "outputs": [
    {
     "name": "stdout",
     "output_type": "stream",
     "text": [
      "Collecting selectolax\n",
      "  Downloading selectolax-0.3.8-cp310-cp310-win_amd64.whl (1.9 MB)\n",
      "     ---------------------------------------- 1.9/1.9 MB 1.8 MB/s eta 0:00:00\n",
      "Collecting Cython>=0.29.23\n",
      "  Downloading Cython-0.29.32-py2.py3-none-any.whl (986 kB)\n",
      "     -------------------------------------- 986.3/986.3 kB 2.1 MB/s eta 0:00:00\n",
      "Installing collected packages: Cython, selectolax\n",
      "Successfully installed Cython-0.29.32 selectolax-0.3.8\n",
      "Note: you may need to restart the kernel to use updated packages.\n"
     ]
    },
    {
     "name": "stderr",
     "output_type": "stream",
     "text": [
      "WARNING: There was an error checking the latest version of pip.\n"
     ]
    }
   ],
   "source": [
    "pip install selectolax"
   ]
  },
  {
   "cell_type": "code",
   "execution_count": 3,
   "id": "49f5b554",
   "metadata": {},
   "outputs": [
    {
     "name": "stdout",
     "output_type": "stream",
     "text": [
      "pip 22.1.1 from C:\\Users\\sitha\\AppData\\Local\\Programs\\Python\\Python310\\lib\\site-packages\\pip (python 3.10)\n",
      "\n",
      "Note: you may need to restart the kernel to use updated packages.\n"
     ]
    }
   ],
   "source": [
    "pip --version"
   ]
  },
  {
   "cell_type": "code",
   "execution_count": 4,
   "id": "4f5de4cf",
   "metadata": {},
   "outputs": [],
   "source": [
    "from selectolax.parser import HTMLParser\n",
    "html = \"\"\"\n",
    "<body>\n",
    "    <h1 class='>Welcome to selectolax tutorial</h1>\n",
    "    <div id=\"text\">\n",
    "        <p class='p3'>Lorem ipsum</p>\n",
    "        <p class='p3'>Lorem ipsum 2</p>\n",
    "    </div>\n",
    "    <div>\n",
    "        <p id='stext'>Lorem ipsum dolor sit amet, ea quo modus meliore platonem.</p>\n",
    "    </div>\n",
    "</body>\n",
    "\"\"\""
   ]
  },
  {
   "cell_type": "code",
   "execution_count": 5,
   "id": "9efa4cb4",
   "metadata": {},
   "outputs": [],
   "source": [
    "parser = HTMLParser(html)"
   ]
  },
  {
   "cell_type": "code",
   "execution_count": 6,
   "id": "745ae56b",
   "metadata": {},
   "outputs": [
    {
     "data": {
      "text/plain": [
       "'\\n<body>\\n    <h1 class=\\'>Welcome to selectolax tutorial</h1>\\n    <div id=\"text\">\\n        <p class=\\'p3\\'>Lorem ipsum</p>\\n        <p class=\\'p3\\'>Lorem ipsum 2</p>\\n    </div>\\n    <div>\\n        <p id=\\'stext\\'>Lorem ipsum dolor sit amet, ea quo modus meliore platonem.</p>\\n    </div>\\n</body>\\n'"
      ]
     },
     "execution_count": 6,
     "metadata": {},
     "output_type": "execute_result"
    }
   ],
   "source": [
    "html"
   ]
  },
  {
   "cell_type": "code",
   "execution_count": 8,
   "id": "71b9d629",
   "metadata": {},
   "outputs": [
    {
     "data": {
      "text/plain": [
       "<selectolax.parser.Selector at 0x25ac4f0e100>"
      ]
     },
     "execution_count": 8,
     "metadata": {},
     "output_type": "execute_result"
    }
   ],
   "source": [
    "parser.select('p.p3')"
   ]
  },
  {
   "cell_type": "code",
   "execution_count": 9,
   "id": "6aa1b842",
   "metadata": {},
   "outputs": [
    {
     "data": {
      "text/plain": [
       "<Node p>"
      ]
     },
     "execution_count": 9,
     "metadata": {},
     "output_type": "execute_result"
    }
   ],
   "source": [
    "parser.css_first('p.p3') #select first match"
   ]
  },
  {
   "cell_type": "code",
   "execution_count": null,
   "id": "49bb7ed4",
   "metadata": {},
   "outputs": [],
   "source": []
  }
 ],
 "metadata": {
  "kernelspec": {
   "display_name": "Python 3 (ipykernel)",
   "language": "python",
   "name": "python3"
  },
  "language_info": {
   "codemirror_mode": {
    "name": "ipython",
    "version": 3
   },
   "file_extension": ".py",
   "mimetype": "text/x-python",
   "name": "python",
   "nbconvert_exporter": "python",
   "pygments_lexer": "ipython3",
   "version": "3.10.2"
  }
 },
 "nbformat": 4,
 "nbformat_minor": 5
}
