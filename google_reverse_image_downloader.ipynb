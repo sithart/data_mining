{
 "cells": [
  {
   "cell_type": "code",
   "execution_count": 6,
   "id": "d847556a",
   "metadata": {},
   "outputs": [
    {
     "name": "stderr",
     "output_type": "stream",
     "text": [
      "C:\\Users\\sitha\\AppData\\Local\\Temp\\ipykernel_8704\\630783366.py:7: DeprecationWarning: firefox_profile has been deprecated, please pass in an Options object\n",
      "  driver = webdriver.Firefox(executable_path)\n"
     ]
    },
    {
     "ename": "NotADirectoryError",
     "evalue": "[WinError 267] The directory name is invalid: 'geckodriver.exe'",
     "output_type": "error",
     "traceback": [
      "\u001b[1;31m---------------------------------------------------------------------------\u001b[0m",
      "\u001b[1;31mNotADirectoryError\u001b[0m                        Traceback (most recent call last)",
      "Input \u001b[1;32mIn [6]\u001b[0m, in \u001b[0;36m<cell line: 7>\u001b[1;34m()\u001b[0m\n\u001b[0;32m      5\u001b[0m \u001b[38;5;66;03m# Using Chrome to access web\u001b[39;00m\n\u001b[0;32m      6\u001b[0m executable_path\u001b[38;5;241m=\u001b[39m \u001b[38;5;124mr\u001b[39m\u001b[38;5;124m\"\u001b[39m\u001b[38;5;124mgeckodriver.exe\u001b[39m\u001b[38;5;124m\"\u001b[39m\n\u001b[1;32m----> 7\u001b[0m driver \u001b[38;5;241m=\u001b[39m \u001b[43mwebdriver\u001b[49m\u001b[38;5;241;43m.\u001b[39;49m\u001b[43mFirefox\u001b[49m\u001b[43m(\u001b[49m\u001b[43mexecutable_path\u001b[49m\u001b[43m)\u001b[49m\n\u001b[0;32m      9\u001b[0m \u001b[38;5;28;01mtry\u001b[39;00m:\n\u001b[0;32m     10\u001b[0m     \u001b[38;5;66;03m# Open the website\u001b[39;00m\n\u001b[0;32m     11\u001b[0m     driver\u001b[38;5;241m.\u001b[39mget(\u001b[38;5;124m'\u001b[39m\u001b[38;5;124mhttps://images.google.com/\u001b[39m\u001b[38;5;124m'\u001b[39m)\n",
      "File \u001b[1;32m~\\AppData\\Local\\Programs\\Python\\Python310\\lib\\site-packages\\selenium\\webdriver\\firefox\\webdriver.py:161\u001b[0m, in \u001b[0;36mWebDriver.__init__\u001b[1;34m(self, firefox_profile, firefox_binary, capabilities, proxy, executable_path, options, service_log_path, service_args, service, desired_capabilities, log_path, keep_alive)\u001b[0m\n\u001b[0;32m    159\u001b[0m \u001b[38;5;28;01mif\u001b[39;00m firefox_profile:\n\u001b[0;32m    160\u001b[0m     \u001b[38;5;28;01mif\u001b[39;00m \u001b[38;5;28misinstance\u001b[39m(firefox_profile, \u001b[38;5;28mstr\u001b[39m):\n\u001b[1;32m--> 161\u001b[0m         firefox_profile \u001b[38;5;241m=\u001b[39m \u001b[43mFirefoxProfile\u001b[49m\u001b[43m(\u001b[49m\u001b[43mfirefox_profile\u001b[49m\u001b[43m)\u001b[49m\n\u001b[0;32m    162\u001b[0m     \u001b[38;5;28mself\u001b[39m\u001b[38;5;241m.\u001b[39mprofile \u001b[38;5;241m=\u001b[39m firefox_profile\n\u001b[0;32m    163\u001b[0m     options\u001b[38;5;241m.\u001b[39mprofile \u001b[38;5;241m=\u001b[39m firefox_profile\n",
      "File \u001b[1;32m~\\AppData\\Local\\Programs\\Python\\Python310\\lib\\site-packages\\selenium\\webdriver\\firefox\\firefox_profile.py:74\u001b[0m, in \u001b[0;36mFirefoxProfile.__init__\u001b[1;34m(self, profile_directory)\u001b[0m\n\u001b[0;32m     72\u001b[0m \u001b[38;5;28mself\u001b[39m\u001b[38;5;241m.\u001b[39mtempfolder \u001b[38;5;241m=\u001b[39m tempfile\u001b[38;5;241m.\u001b[39mmkdtemp()\n\u001b[0;32m     73\u001b[0m newprof \u001b[38;5;241m=\u001b[39m os\u001b[38;5;241m.\u001b[39mpath\u001b[38;5;241m.\u001b[39mjoin(\u001b[38;5;28mself\u001b[39m\u001b[38;5;241m.\u001b[39mtempfolder, \u001b[38;5;124m\"\u001b[39m\u001b[38;5;124mwebdriver-py-profilecopy\u001b[39m\u001b[38;5;124m\"\u001b[39m)\n\u001b[1;32m---> 74\u001b[0m \u001b[43mshutil\u001b[49m\u001b[38;5;241;43m.\u001b[39;49m\u001b[43mcopytree\u001b[49m\u001b[43m(\u001b[49m\u001b[38;5;28;43mself\u001b[39;49m\u001b[38;5;241;43m.\u001b[39;49m\u001b[43mprofile_dir\u001b[49m\u001b[43m,\u001b[49m\u001b[43m \u001b[49m\u001b[43mnewprof\u001b[49m\u001b[43m,\u001b[49m\n\u001b[0;32m     75\u001b[0m \u001b[43m                \u001b[49m\u001b[43mignore\u001b[49m\u001b[38;5;241;43m=\u001b[39;49m\u001b[43mshutil\u001b[49m\u001b[38;5;241;43m.\u001b[39;49m\u001b[43mignore_patterns\u001b[49m\u001b[43m(\u001b[49m\u001b[38;5;124;43m\"\u001b[39;49m\u001b[38;5;124;43mparent.lock\u001b[39;49m\u001b[38;5;124;43m\"\u001b[39;49m\u001b[43m,\u001b[49m\u001b[43m \u001b[49m\u001b[38;5;124;43m\"\u001b[39;49m\u001b[38;5;124;43mlock\u001b[39;49m\u001b[38;5;124;43m\"\u001b[39;49m\u001b[43m,\u001b[49m\u001b[43m \u001b[49m\u001b[38;5;124;43m\"\u001b[39;49m\u001b[38;5;124;43m.parentlock\u001b[39;49m\u001b[38;5;124;43m\"\u001b[39;49m\u001b[43m)\u001b[49m\u001b[43m)\u001b[49m\n\u001b[0;32m     76\u001b[0m \u001b[38;5;28mself\u001b[39m\u001b[38;5;241m.\u001b[39mprofile_dir \u001b[38;5;241m=\u001b[39m newprof\n\u001b[0;32m     77\u001b[0m os\u001b[38;5;241m.\u001b[39mchmod(\u001b[38;5;28mself\u001b[39m\u001b[38;5;241m.\u001b[39mprofile_dir, \u001b[38;5;241m0o755\u001b[39m)\n",
      "File \u001b[1;32m~\\AppData\\Local\\Programs\\Python\\Python310\\lib\\shutil.py:554\u001b[0m, in \u001b[0;36mcopytree\u001b[1;34m(src, dst, symlinks, ignore, copy_function, ignore_dangling_symlinks, dirs_exist_ok)\u001b[0m\n\u001b[0;32m    517\u001b[0m \u001b[38;5;124;03m\"\"\"Recursively copy a directory tree and return the destination directory.\u001b[39;00m\n\u001b[0;32m    518\u001b[0m \n\u001b[0;32m    519\u001b[0m \u001b[38;5;124;03mdirs_exist_ok dictates whether to raise an exception in case dst or any\u001b[39;00m\n\u001b[1;32m   (...)\u001b[0m\n\u001b[0;32m    551\u001b[0m \n\u001b[0;32m    552\u001b[0m \u001b[38;5;124;03m\"\"\"\u001b[39;00m\n\u001b[0;32m    553\u001b[0m sys\u001b[38;5;241m.\u001b[39maudit(\u001b[38;5;124m\"\u001b[39m\u001b[38;5;124mshutil.copytree\u001b[39m\u001b[38;5;124m\"\u001b[39m, src, dst)\n\u001b[1;32m--> 554\u001b[0m \u001b[38;5;28;01mwith\u001b[39;00m \u001b[43mos\u001b[49m\u001b[38;5;241;43m.\u001b[39;49m\u001b[43mscandir\u001b[49m\u001b[43m(\u001b[49m\u001b[43msrc\u001b[49m\u001b[43m)\u001b[49m \u001b[38;5;28;01mas\u001b[39;00m itr:\n\u001b[0;32m    555\u001b[0m     entries \u001b[38;5;241m=\u001b[39m \u001b[38;5;28mlist\u001b[39m(itr)\n\u001b[0;32m    556\u001b[0m \u001b[38;5;28;01mreturn\u001b[39;00m _copytree(entries\u001b[38;5;241m=\u001b[39mentries, src\u001b[38;5;241m=\u001b[39msrc, dst\u001b[38;5;241m=\u001b[39mdst, symlinks\u001b[38;5;241m=\u001b[39msymlinks,\n\u001b[0;32m    557\u001b[0m                  ignore\u001b[38;5;241m=\u001b[39mignore, copy_function\u001b[38;5;241m=\u001b[39mcopy_function,\n\u001b[0;32m    558\u001b[0m                  ignore_dangling_symlinks\u001b[38;5;241m=\u001b[39mignore_dangling_symlinks,\n\u001b[0;32m    559\u001b[0m                  dirs_exist_ok\u001b[38;5;241m=\u001b[39mdirs_exist_ok)\n",
      "\u001b[1;31mNotADirectoryError\u001b[0m: [WinError 267] The directory name is invalid: 'geckodriver.exe'"
     ]
    }
   ],
   "source": [
    "from selenium import webdriver\n",
    "import os\n",
    "import time\n",
    "\n",
    "# Using Chrome to access web\n",
    "executable_path= r\"geckodriver.exe\"\n",
    "driver = webdriver.Firefox(executable_path)\n",
    "\n",
    "try:\n",
    "    # Open the website\n",
    "    driver.get('https://images.google.com/')\n",
    "\n",
    "#     # Find cam button\n",
    "#     cam_button = driver.find_elements_by_xpath(\"//div[@aria-label=\\\"Search by image\\\" and @role=\\\"button\\\"]\")[0]\n",
    "#     cam_button.click()\n",
    "\n",
    "#     # Find upload tab\n",
    "#     upload_tab = driver.find_elements_by_xpath(\"//*[contains(text(), 'Upload an image')]\")[0]\n",
    "#     upload_tab.click()\n",
    "\n",
    "#     # Find image input\n",
    "#     upload_btn = driver.find_element_by_name('encoded_image')\n",
    "#     upload_btn.send_keys(os.getcwd()+\"/image.png\")\n",
    "\n",
    "    time.sleep(10)\n",
    "\n",
    "except Exception as e:\n",
    "    print(e)\n",
    "\n",
    "driver.quit()"
   ]
  },
  {
   "cell_type": "code",
   "execution_count": 4,
   "id": "cc992d71",
   "metadata": {},
   "outputs": [
    {
     "name": "stdout",
     "output_type": "stream",
     "text": [
      "Requirement already satisfied: selenium in c:\\users\\sitha\\appdata\\local\\programs\\python\\python310\\lib\\site-packages (4.1.3)"
     ]
    },
    {
     "name": "stderr",
     "output_type": "stream",
     "text": [
      "WARNING: There was an error checking the latest version of pip.\n"
     ]
    },
    {
     "name": "stdout",
     "output_type": "stream",
     "text": [
      "\n",
      "Requirement already satisfied: trio~=0.17 in c:\\users\\sitha\\appdata\\local\\programs\\python\\python310\\lib\\site-packages (from selenium) (0.20.0)\n",
      "Requirement already satisfied: trio-websocket~=0.9 in c:\\users\\sitha\\appdata\\local\\programs\\python\\python310\\lib\\site-packages (from selenium) (0.9.2)\n",
      "Requirement already satisfied: urllib3[secure,socks]~=1.26 in c:\\users\\sitha\\appdata\\local\\programs\\python\\python310\\lib\\site-packages (from selenium) (1.26.8)\n",
      "Requirement already satisfied: sortedcontainers in c:\\users\\sitha\\appdata\\local\\programs\\python\\python310\\lib\\site-packages (from trio~=0.17->selenium) (2.4.0)\n",
      "Requirement already satisfied: idna in c:\\users\\sitha\\appdata\\local\\programs\\python\\python310\\lib\\site-packages (from trio~=0.17->selenium) (3.3)\n",
      "Requirement already satisfied: outcome in c:\\users\\sitha\\appdata\\local\\programs\\python\\python310\\lib\\site-packages (from trio~=0.17->selenium) (1.1.0)\n",
      "Requirement already satisfied: async-generator>=1.9 in c:\\users\\sitha\\appdata\\local\\programs\\python\\python310\\lib\\site-packages (from trio~=0.17->selenium) (1.10)\n",
      "Requirement already satisfied: cffi>=1.14 in c:\\users\\sitha\\appdata\\local\\programs\\python\\python310\\lib\\site-packages (from trio~=0.17->selenium) (1.15.0)\n",
      "Requirement already satisfied: attrs>=19.2.0 in c:\\users\\sitha\\appdata\\local\\programs\\python\\python310\\lib\\site-packages (from trio~=0.17->selenium) (21.4.0)\n",
      "Requirement already satisfied: sniffio in c:\\users\\sitha\\appdata\\local\\programs\\python\\python310\\lib\\site-packages (from trio~=0.17->selenium) (1.2.0)\n",
      "Requirement already satisfied: wsproto>=0.14 in c:\\users\\sitha\\appdata\\local\\programs\\python\\python310\\lib\\site-packages (from trio-websocket~=0.9->selenium) (1.1.0)\n",
      "Requirement already satisfied: PySocks!=1.5.7,<2.0,>=1.5.6 in c:\\users\\sitha\\appdata\\local\\programs\\python\\python310\\lib\\site-packages (from urllib3[secure,socks]~=1.26->selenium) (1.7.1)\n",
      "Requirement already satisfied: cryptography>=1.3.4 in c:\\users\\sitha\\appdata\\local\\programs\\python\\python310\\lib\\site-packages (from urllib3[secure,socks]~=1.26->selenium) (36.0.1)\n",
      "Requirement already satisfied: certifi in c:\\users\\sitha\\appdata\\local\\programs\\python\\python310\\lib\\site-packages (from urllib3[secure,socks]~=1.26->selenium) (2021.10.8)\n",
      "Requirement already satisfied: pyOpenSSL>=0.14 in c:\\users\\sitha\\appdata\\local\\programs\\python\\python310\\lib\\site-packages (from urllib3[secure,socks]~=1.26->selenium) (22.0.0)\n",
      "Requirement already satisfied: pycparser in c:\\users\\sitha\\appdata\\local\\programs\\python\\python310\\lib\\site-packages (from cffi>=1.14->trio~=0.17->selenium) (2.21)\n",
      "Requirement already satisfied: h11<1,>=0.9.0 in c:\\users\\sitha\\appdata\\local\\programs\\python\\python310\\lib\\site-packages (from wsproto>=0.14->trio-websocket~=0.9->selenium) (0.12.0)\n"
     ]
    }
   ],
   "source": [
    "from selenium import webdriver\n",
    "driver = webdriver.Chrome(executable_path=r\"C:\\bin\\chromedriver.exe\")\n",
    "driver.maximize_window()\n",
    "driver.get(\"url\")"
   ]
  },
  {
   "cell_type": "code",
   "execution_count": 12,
   "id": "bcbf4753",
   "metadata": {},
   "outputs": [
    {
     "name": "stdout",
     "output_type": "stream",
     "text": [
      "Collecting nbclean\n",
      "  Downloading nbclean-0.3.2-py2.py3-none-any.whl (21 kB)\n",
      "Requirement already satisfied: nbformat in c:\\users\\sitha\\appdata\\local\\programs\\python\\python310\\lib\\site-packages (from nbclean) (5.2.0)\n",
      "Collecting tqdm\n",
      "  Downloading tqdm-4.64.1-py2.py3-none-any.whl (78 kB)\n",
      "     ---------------------------------------- 78.5/78.5 kB 1.5 MB/s eta 0:00:00\n",
      "Collecting nbgrader\n",
      "  Downloading nbgrader-0.8.0-py3-none-any.whl (10.8 MB)\n",
      "     ---------------------------------------- 10.8/10.8 MB 9.8 MB/s eta 0:00:00\n",
      "Requirement already satisfied: setuptools in c:\\users\\sitha\\appdata\\local\\programs\\python\\python310\\lib\\site-packages (from nbclean) (58.1.0)\n",
      "Requirement already satisfied: numpy in c:\\users\\sitha\\appdata\\local\\programs\\python\\python310\\lib\\site-packages (from nbclean) (1.22.3)\n",
      "Requirement already satisfied: matplotlib in c:\\users\\sitha\\appdata\\local\\programs\\python\\python310\\lib\\site-packages (from nbclean) (3.5.1)\n",
      "Requirement already satisfied: packaging>=20.0 in c:\\users\\sitha\\appdata\\local\\programs\\python\\python310\\lib\\site-packages (from matplotlib->nbclean) (21.3)\n",
      "Requirement already satisfied: kiwisolver>=1.0.1 in c:\\users\\sitha\\appdata\\local\\programs\\python\\python310\\lib\\site-packages (from matplotlib->nbclean) (1.4.0)\n",
      "Requirement already satisfied: pyparsing>=2.2.1 in c:\\users\\sitha\\appdata\\local\\programs\\python\\python310\\lib\\site-packages (from matplotlib->nbclean) (3.0.7)\n",
      "Requirement already satisfied: python-dateutil>=2.7 in c:\\users\\sitha\\appdata\\local\\programs\\python\\python310\\lib\\site-packages (from matplotlib->nbclean) (2.8.2)\n",
      "Requirement already satisfied: cycler>=0.10 in c:\\users\\sitha\\appdata\\local\\programs\\python\\python310\\lib\\site-packages (from matplotlib->nbclean) (0.11.0)\n",
      "Requirement already satisfied: pillow>=6.2.0 in c:\\users\\sitha\\appdata\\local\\programs\\python\\python310\\lib\\site-packages (from matplotlib->nbclean) (9.0.1)\n",
      "Requirement already satisfied: fonttools>=4.22.0 in c:\\users\\sitha\\appdata\\local\\programs\\python\\python310\\lib\\site-packages (from matplotlib->nbclean) (4.31.2)\n",
      "Requirement already satisfied: traitlets>=4.1 in c:\\users\\sitha\\appdata\\local\\programs\\python\\python310\\lib\\site-packages (from nbformat->nbclean) (5.1.1)\n",
      "Requirement already satisfied: jupyter-core in c:\\users\\sitha\\appdata\\local\\programs\\python\\python310\\lib\\site-packages (from nbformat->nbclean) (4.9.2)\n",
      "Requirement already satisfied: jsonschema!=2.5.0,>=2.4 in c:\\users\\sitha\\appdata\\local\\programs\\python\\python310\\lib\\site-packages (from nbformat->nbclean) (4.4.0)\n",
      "Requirement already satisfied: nbconvert>=6 in c:\\users\\sitha\\appdata\\local\\programs\\python\\python310\\lib\\site-packages (from nbgrader->nbclean) (6.4.4)\n",
      "Collecting jupyterlab-server\n",
      "  Downloading jupyterlab_server-2.15.1-py3-none-any.whl (54 kB)\n",
      "     ---------------------------------------- 54.1/54.1 kB 2.7 MB/s eta 0:00:00\n",
      "Collecting ipywidgets>=7.6\n",
      "  Downloading ipywidgets-8.0.2-py3-none-any.whl (134 kB)\n",
      "     -------------------------------------- 134.4/134.4 kB 7.8 MB/s eta 0:00:00\n",
      "Collecting nbclient>=0.6.1\n",
      "  Downloading nbclient-0.6.8-py3-none-any.whl (71 kB)\n",
      "     ---------------------------------------- 71.8/71.8 kB 3.9 MB/s eta 0:00:00\n",
      "Requirement already satisfied: MarkupSafe<2.2.0 in c:\\users\\sitha\\appdata\\local\\programs\\python\\python310\\lib\\site-packages (from nbgrader->nbclean) (2.1.0)\n",
      "Collecting jupyterlab<4\n",
      "  Downloading jupyterlab-3.4.7-py3-none-any.whl (8.8 MB)\n",
      "     ---------------------------------------- 8.8/8.8 MB 6.4 MB/s eta 0:00:00\n",
      "Requirement already satisfied: requests>=2.26 in c:\\users\\sitha\\appdata\\local\\programs\\python\\python310\\lib\\site-packages (from nbgrader->nbclean) (2.27.1)\n",
      "Collecting sqlalchemy<2,>=1.4\n",
      "  Downloading SQLAlchemy-1.4.41-cp310-cp310-win_amd64.whl (1.6 MB)\n",
      "     ---------------------------------------- 1.6/1.6 MB 3.8 MB/s eta 0:00:00\n",
      "Requirement already satisfied: jupyter-client<8 in c:\\users\\sitha\\appdata\\local\\programs\\python\\python310\\lib\\site-packages (from nbgrader->nbclean) (7.1.2)\n",
      "Collecting rapidfuzz>=1.8\n",
      "  Downloading rapidfuzz-2.8.0-cp310-cp310-win_amd64.whl (1.2 MB)\n",
      "     ---------------------------------------- 1.2/1.2 MB 3.5 MB/s eta 0:00:00\n",
      "Collecting nbclassic<0.4.0\n",
      "  Downloading nbclassic-0.3.7-py3-none-any.whl (13 kB)\n",
      "Collecting jupyter-server>=1.12\n",
      "  Downloading jupyter_server-1.18.1-py3-none-any.whl (344 kB)\n",
      "     -------------------------------------- 344.9/344.9 kB 2.7 MB/s eta 0:00:00\n",
      "Collecting alembic>=1.7\n",
      "  Downloading alembic-1.8.1-py3-none-any.whl (209 kB)\n",
      "     -------------------------------------- 209.8/209.8 kB 2.1 MB/s eta 0:00:00\n",
      "Requirement already satisfied: notebook<7,>=6.4 in c:\\users\\sitha\\appdata\\local\\programs\\python\\python310\\lib\\site-packages (from nbgrader->nbclean) (6.4.8)\n",
      "Requirement already satisfied: Jinja2>=3 in c:\\users\\sitha\\appdata\\local\\programs\\python\\python310\\lib\\site-packages (from nbgrader->nbclean) (3.0.3)\n",
      "Requirement already satisfied: colorama in c:\\users\\sitha\\appdata\\local\\programs\\python\\python310\\lib\\site-packages (from tqdm->nbclean) (0.4.4)\n",
      "Collecting Mako\n",
      "  Downloading Mako-1.2.2-py3-none-any.whl (78 kB)\n",
      "     ---------------------------------------- 78.7/78.7 kB 1.5 MB/s eta 0:00:00\n",
      "Collecting jupyterlab-widgets~=3.0\n",
      "  Downloading jupyterlab_widgets-3.0.3-py3-none-any.whl (384 kB)\n",
      "     -------------------------------------- 384.1/384.1 kB 1.8 MB/s eta 0:00:00\n",
      "Requirement already satisfied: ipykernel>=4.5.1 in c:\\users\\sitha\\appdata\\local\\programs\\python\\python310\\lib\\site-packages (from ipywidgets>=7.6->nbgrader->nbclean) (6.9.1)\n",
      "Requirement already satisfied: ipython>=6.1.0 in c:\\users\\sitha\\appdata\\local\\programs\\python\\python310\\lib\\site-packages (from ipywidgets>=7.6->nbgrader->nbclean) (8.1.1)\n",
      "Collecting widgetsnbextension~=4.0\n",
      "  Downloading widgetsnbextension-4.0.3-py3-none-any.whl (2.0 MB)\n",
      "     ---------------------------------------- 2.0/2.0 MB 1.4 MB/s eta 0:00:00\n",
      "Requirement already satisfied: pyrsistent!=0.17.0,!=0.17.1,!=0.17.2,>=0.14.0 in c:\\users\\sitha\\appdata\\local\\programs\\python\\python310\\lib\\site-packages (from jsonschema!=2.5.0,>=2.4->nbformat->nbclean) (0.18.1)\n",
      "Requirement already satisfied: attrs>=17.4.0 in c:\\users\\sitha\\appdata\\local\\programs\\python\\python310\\lib\\site-packages (from jsonschema!=2.5.0,>=2.4->nbformat->nbclean) (21.4.0)\n",
      "Requirement already satisfied: pyzmq>=13 in c:\\users\\sitha\\appdata\\local\\programs\\python\\python310\\lib\\site-packages (from jupyter-client<8->nbgrader->nbclean) (22.3.0)\n",
      "Requirement already satisfied: entrypoints in c:\\users\\sitha\\appdata\\local\\programs\\python\\python310\\lib\\site-packages (from jupyter-client<8->nbgrader->nbclean) (0.4)\n",
      "Requirement already satisfied: tornado>=4.1 in c:\\users\\sitha\\appdata\\local\\programs\\python\\python310\\lib\\site-packages (from jupyter-client<8->nbgrader->nbclean) (6.1)\n",
      "Requirement already satisfied: nest-asyncio>=1.5 in c:\\users\\sitha\\appdata\\local\\programs\\python\\python310\\lib\\site-packages (from jupyter-client<8->nbgrader->nbclean) (1.5.4)\n",
      "Requirement already satisfied: pywin32>=1.0 in c:\\users\\sitha\\appdata\\local\\programs\\python\\python310\\lib\\site-packages (from jupyter-core->nbformat->nbclean) (303)\n",
      "Requirement already satisfied: anyio<4,>=3.1.0 in c:\\users\\sitha\\appdata\\local\\programs\\python\\python310\\lib\\site-packages (from jupyter-server>=1.12->nbgrader->nbclean) (3.6.1)\n",
      "Requirement already satisfied: prometheus-client in c:\\users\\sitha\\appdata\\local\\programs\\python\\python310\\lib\\site-packages (from jupyter-server>=1.12->nbgrader->nbclean) (0.13.1)\n",
      "Requirement already satisfied: terminado>=0.8.3 in c:\\users\\sitha\\appdata\\local\\programs\\python\\python310\\lib\\site-packages (from jupyter-server>=1.12->nbgrader->nbclean) (0.13.3)\n",
      "Requirement already satisfied: pywinpty in c:\\users\\sitha\\appdata\\local\\programs\\python\\python310\\lib\\site-packages (from jupyter-server>=1.12->nbgrader->nbclean) (2.0.5)\n",
      "Requirement already satisfied: argon2-cffi in c:\\users\\sitha\\appdata\\local\\programs\\python\\python310\\lib\\site-packages (from jupyter-server>=1.12->nbgrader->nbclean) (21.3.0)\n",
      "Collecting websocket-client\n",
      "  Downloading websocket_client-1.4.1-py3-none-any.whl (55 kB)\n",
      "     -------------------------------------- 55.0/55.0 kB 952.3 kB/s eta 0:00:00\n",
      "Requirement already satisfied: Send2Trash in c:\\users\\sitha\\appdata\\local\\programs\\python\\python310\\lib\\site-packages (from jupyter-server>=1.12->nbgrader->nbclean) (1.8.0)\n",
      "Collecting tomli\n",
      "  Using cached tomli-2.0.1-py3-none-any.whl (12 kB)\n",
      "Collecting json5\n",
      "  Downloading json5-0.9.10-py2.py3-none-any.whl (19 kB)\n",
      "Collecting babel\n",
      "  Downloading Babel-2.10.3-py3-none-any.whl (9.5 MB)\n",
      "     ---------------------------------------- 9.5/9.5 MB 1.0 MB/s eta 0:00:00\n",
      "Collecting notebook-shim>=0.1.0\n",
      "  Downloading notebook_shim-0.1.0-py3-none-any.whl (13 kB)\n",
      "Collecting nbclient>=0.6.1\n",
      "  Downloading nbclient-0.6.7-py3-none-any.whl (71 kB)\n",
      "     ---------------------------------------- 71.8/71.8 kB 2.0 MB/s eta 0:00:00\n",
      "  Downloading nbclient-0.6.6-py3-none-any.whl (71 kB)\n",
      "     ---------------------------------------- 71.8/71.8 kB 2.0 MB/s eta 0:00:00\n",
      "  Downloading nbclient-0.6.5-py3-none-any.whl (71 kB)\n",
      "     ---------------------------------------- 71.8/71.8 kB 2.0 MB/s eta 0:00:00\n",
      "  Downloading nbclient-0.6.4-py3-none-any.whl (71 kB)\n",
      "     ---------------------------------------- 71.8/71.8 kB 1.9 MB/s eta 0:00:00\n",
      "  Downloading nbclient-0.6.3-py3-none-any.whl (71 kB)\n",
      "     ---------------------------------------- 71.5/71.5 kB 4.1 MB/s eta 0:00:00\n",
      "Requirement already satisfied: bleach in c:\\users\\sitha\\appdata\\local\\programs\\python\\python310\\lib\\site-packages (from nbconvert>=6->nbgrader->nbclean) (4.1.0)\n",
      "Requirement already satisfied: defusedxml in c:\\users\\sitha\\appdata\\local\\programs\\python\\python310\\lib\\site-packages (from nbconvert>=6->nbgrader->nbclean) (0.7.1)\n",
      "Requirement already satisfied: pygments>=2.4.1 in c:\\users\\sitha\\appdata\\local\\programs\\python\\python310\\lib\\site-packages (from nbconvert>=6->nbgrader->nbclean) (2.11.2)\n",
      "Requirement already satisfied: pandocfilters>=1.4.1 in c:\\users\\sitha\\appdata\\local\\programs\\python\\python310\\lib\\site-packages (from nbconvert>=6->nbgrader->nbclean) (1.5.0)\n",
      "Requirement already satisfied: testpath in c:\\users\\sitha\\appdata\\local\\programs\\python\\python310\\lib\\site-packages (from nbconvert>=6->nbgrader->nbclean) (0.6.0)\n",
      "Collecting nbconvert>=6\n",
      "  Downloading nbconvert-7.0.0-py3-none-any.whl (271 kB)\n",
      "     -------------------------------------- 271.3/271.3 kB 2.1 MB/s eta 0:00:00\n",
      "Requirement already satisfied: lxml in c:\\users\\sitha\\appdata\\local\\programs\\python\\python310\\lib\\site-packages (from nbconvert>=6->nbgrader->nbclean) (4.9.1)\n",
      "Collecting tinycss2\n",
      "  Downloading tinycss2-1.1.1-py3-none-any.whl (21 kB)\n",
      "Collecting mistune<3,>=2.0.3\n",
      "  Downloading mistune-2.0.4-py2.py3-none-any.whl (24 kB)\n",
      "Requirement already satisfied: beautifulsoup4 in c:\\users\\sitha\\appdata\\local\\programs\\python\\python310\\lib\\site-packages (from nbconvert>=6->nbgrader->nbclean) (4.10.0)\n",
      "Requirement already satisfied: jupyterlab-pygments in c:\\users\\sitha\\appdata\\local\\programs\\python\\python310\\lib\\site-packages (from nbconvert>=6->nbgrader->nbclean) (0.1.2)\n",
      "Requirement already satisfied: ipython-genutils in c:\\users\\sitha\\appdata\\local\\programs\\python\\python310\\lib\\site-packages (from notebook<7,>=6.4->nbgrader->nbclean) (0.2.0)\n",
      "Requirement already satisfied: six>=1.5 in c:\\users\\sitha\\appdata\\local\\programs\\python\\python310\\lib\\site-packages (from python-dateutil>=2.7->matplotlib->nbclean) (1.16.0)\n",
      "Collecting jarowinkler<2.0.0,>=1.2.0\n",
      "  Downloading jarowinkler-1.2.1-cp310-cp310-win_amd64.whl (61 kB)\n",
      "     ---------------------------------------- 61.7/61.7 kB 1.7 MB/s eta 0:00:00\n",
      "Requirement already satisfied: idna<4,>=2.5 in c:\\users\\sitha\\appdata\\local\\programs\\python\\python310\\lib\\site-packages (from requests>=2.26->nbgrader->nbclean) (3.3)\n",
      "Requirement already satisfied: certifi>=2017.4.17 in c:\\users\\sitha\\appdata\\local\\programs\\python\\python310\\lib\\site-packages (from requests>=2.26->nbgrader->nbclean) (2021.10.8)\n",
      "Requirement already satisfied: urllib3<1.27,>=1.21.1 in c:\\users\\sitha\\appdata\\local\\programs\\python\\python310\\lib\\site-packages (from requests>=2.26->nbgrader->nbclean) (1.26.8)\n",
      "Requirement already satisfied: charset-normalizer~=2.0.0 in c:\\users\\sitha\\appdata\\local\\programs\\python\\python310\\lib\\site-packages (from requests>=2.26->nbgrader->nbclean) (2.0.12)\n",
      "Collecting greenlet!=0.4.17\n",
      "  Downloading greenlet-1.1.3-cp310-cp310-win_amd64.whl (101 kB)\n",
      "     -------------------------------------- 101.7/101.7 kB 1.9 MB/s eta 0:00:00\n",
      "Requirement already satisfied: sniffio>=1.1 in c:\\users\\sitha\\appdata\\local\\programs\\python\\python310\\lib\\site-packages (from anyio<4,>=3.1.0->jupyter-server>=1.12->nbgrader->nbclean) (1.2.0)\n",
      "Requirement already satisfied: debugpy<2.0,>=1.0.0 in c:\\users\\sitha\\appdata\\local\\programs\\python\\python310\\lib\\site-packages (from ipykernel>=4.5.1->ipywidgets>=7.6->nbgrader->nbclean) (1.5.1)\n",
      "Requirement already satisfied: matplotlib-inline<0.2.0,>=0.1.0 in c:\\users\\sitha\\appdata\\local\\programs\\python\\python310\\lib\\site-packages (from ipykernel>=4.5.1->ipywidgets>=7.6->nbgrader->nbclean) (0.1.3)\n",
      "Requirement already satisfied: pickleshare in c:\\users\\sitha\\appdata\\local\\programs\\python\\python310\\lib\\site-packages (from ipython>=6.1.0->ipywidgets>=7.6->nbgrader->nbclean) (0.7.5)\n",
      "Requirement already satisfied: stack-data in c:\\users\\sitha\\appdata\\local\\programs\\python\\python310\\lib\\site-packages (from ipython>=6.1.0->ipywidgets>=7.6->nbgrader->nbclean) (0.2.0)\n",
      "Requirement already satisfied: backcall in c:\\users\\sitha\\appdata\\local\\programs\\python\\python310\\lib\\site-packages (from ipython>=6.1.0->ipywidgets>=7.6->nbgrader->nbclean) (0.2.0)\n",
      "Requirement already satisfied: decorator in c:\\users\\sitha\\appdata\\local\\programs\\python\\python310\\lib\\site-packages (from ipython>=6.1.0->ipywidgets>=7.6->nbgrader->nbclean) (5.1.1)\n",
      "Requirement already satisfied: jedi>=0.16 in c:\\users\\sitha\\appdata\\local\\programs\\python\\python310\\lib\\site-packages (from ipython>=6.1.0->ipywidgets>=7.6->nbgrader->nbclean) (0.18.1)\n",
      "Requirement already satisfied: prompt-toolkit!=3.0.0,!=3.0.1,<3.1.0,>=2.0.0 in c:\\users\\sitha\\appdata\\local\\programs\\python\\python310\\lib\\site-packages (from ipython>=6.1.0->ipywidgets>=7.6->nbgrader->nbclean) (3.0.28)\n",
      "Requirement already satisfied: argon2-cffi-bindings in c:\\users\\sitha\\appdata\\local\\programs\\python\\python310\\lib\\site-packages (from argon2-cffi->jupyter-server>=1.12->nbgrader->nbclean) (21.2.0)\n",
      "Requirement already satisfied: pytz>=2015.7 in c:\\users\\sitha\\appdata\\local\\programs\\python\\python310\\lib\\site-packages (from babel->jupyterlab-server->nbgrader->nbclean) (2021.3)\n",
      "Requirement already satisfied: soupsieve>1.2 in c:\\users\\sitha\\appdata\\local\\programs\\python\\python310\\lib\\site-packages (from beautifulsoup4->nbconvert>=6->nbgrader->nbclean) (2.3.1)\n",
      "Requirement already satisfied: webencodings in c:\\users\\sitha\\appdata\\local\\programs\\python\\python310\\lib\\site-packages (from bleach->nbconvert>=6->nbgrader->nbclean) (0.5.1)\n",
      "Requirement already satisfied: parso<0.9.0,>=0.8.0 in c:\\users\\sitha\\appdata\\local\\programs\\python\\python310\\lib\\site-packages (from jedi>=0.16->ipython>=6.1.0->ipywidgets>=7.6->nbgrader->nbclean) (0.8.3)\n",
      "Requirement already satisfied: wcwidth in c:\\users\\sitha\\appdata\\local\\programs\\python\\python310\\lib\\site-packages (from prompt-toolkit!=3.0.0,!=3.0.1,<3.1.0,>=2.0.0->ipython>=6.1.0->ipywidgets>=7.6->nbgrader->nbclean) (0.2.5)\n",
      "Requirement already satisfied: cffi>=1.0.1 in c:\\users\\sitha\\appdata\\local\\programs\\python\\python310\\lib\\site-packages (from argon2-cffi-bindings->argon2-cffi->jupyter-server>=1.12->nbgrader->nbclean) (1.15.0)\n",
      "Requirement already satisfied: pure-eval in c:\\users\\sitha\\appdata\\local\\programs\\python\\python310\\lib\\site-packages (from stack-data->ipython>=6.1.0->ipywidgets>=7.6->nbgrader->nbclean) (0.2.2)\n",
      "Requirement already satisfied: executing in c:\\users\\sitha\\appdata\\local\\programs\\python\\python310\\lib\\site-packages (from stack-data->ipython>=6.1.0->ipywidgets>=7.6->nbgrader->nbclean) (0.8.3)\n",
      "Requirement already satisfied: asttokens in c:\\users\\sitha\\appdata\\local\\programs\\python\\python310\\lib\\site-packages (from stack-data->ipython>=6.1.0->ipywidgets>=7.6->nbgrader->nbclean) (2.0.5)\n",
      "Requirement already satisfied: pycparser in c:\\users\\sitha\\appdata\\local\\programs\\python\\python310\\lib\\site-packages (from cffi>=1.0.1->argon2-cffi-bindings->argon2-cffi->jupyter-server>=1.12->nbgrader->nbclean) (2.21)\n",
      "Installing collected packages: mistune, json5, widgetsnbextension, websocket-client, tqdm, tomli, tinycss2, Mako, jupyterlab-widgets, jarowinkler, greenlet, babel, sqlalchemy, rapidfuzz, nbclient, alembic, nbconvert, jupyter-server, ipywidgets, notebook-shim, jupyterlab-server, nbclassic, jupyterlab, nbgrader, nbclean\n",
      "  Attempting uninstall: mistune\n",
      "    Found existing installation: mistune 0.8.4\n",
      "    Uninstalling mistune-0.8.4:\n",
      "      Successfully uninstalled mistune-0.8.4\n",
      "  Attempting uninstall: nbclient\n",
      "    Found existing installation: nbclient 0.5.13\n",
      "    Uninstalling nbclient-0.5.13:\n",
      "      Successfully uninstalled nbclient-0.5.13\n",
      "  Attempting uninstall: nbconvert\n",
      "    Found existing installation: nbconvert 6.4.4\n",
      "    Uninstalling nbconvert-6.4.4:\n",
      "      Successfully uninstalled nbconvert-6.4.4\n",
      "Successfully installed Mako-1.2.2 alembic-1.8.1 babel-2.10.3 greenlet-1.1.3 ipywidgets-8.0.2 jarowinkler-1.2.1 json5-0.9.10 jupyter-server-1.18.1 jupyterlab-3.4.7 jupyterlab-server-2.15.1 jupyterlab-widgets-3.0.3 mistune-2.0.4 nbclassic-0.3.7 nbclean-0.3.2 nbclient-0.6.3 nbconvert-7.0.0 nbgrader-0.8.0 notebook-shim-0.1.0 rapidfuzz-2.8.0 sqlalchemy-1.4.41 tinycss2-1.1.1 tomli-2.0.1 tqdm-4.64.1 websocket-client-1.4.1 widgetsnbextension-4.0.3\n"
     ]
    },
    {
     "name": "stderr",
     "output_type": "stream",
     "text": [
      "WARNING: There was an error checking the latest version of pip.\n"
     ]
    }
   ],
   "source": [
    "!pip install nbclean"
   ]
  },
  {
   "cell_type": "code",
   "execution_count": 14,
   "id": "8e76f42c",
   "metadata": {},
   "outputs": [
    {
     "ename": "SyntaxError",
     "evalue": "invalid syntax (1836445350.py, line 1)",
     "output_type": "error",
     "traceback": [
      "\u001b[1;36m  Input \u001b[1;32mIn [14]\u001b[1;36m\u001b[0m\n\u001b[1;33m    jupyter nbconvert --ClearOutputPreprocessor.enabled=True --clear-output *.ipynb\u001b[0m\n\u001b[1;37m            ^\u001b[0m\n\u001b[1;31mSyntaxError\u001b[0m\u001b[1;31m:\u001b[0m invalid syntax\n"
     ]
    }
   ],
   "source": [
    "jupyter nbconvert --ClearOutputPreprocessor.enabled=True --clear-output *.ipynb"
   ]
  },
  {
   "cell_type": "code",
   "execution_count": null,
   "id": "07e1d36c",
   "metadata": {},
   "outputs": [],
   "source": []
  }
 ],
 "metadata": {
  "kernelspec": {
   "display_name": "Python 3 (ipykernel)",
   "language": "python",
   "name": "python3"
  },
  "language_info": {
   "codemirror_mode": {
    "name": "ipython",
    "version": 3
   },
   "file_extension": ".py",
   "mimetype": "text/x-python",
   "name": "python",
   "nbconvert_exporter": "python",
   "pygments_lexer": "ipython3",
   "version": "3.10.2"
  }
 },
 "nbformat": 4,
 "nbformat_minor": 5
}
